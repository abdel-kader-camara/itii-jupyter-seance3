{
 "cells": [
  {
   "cell_type": "raw",
   "metadata": {},
   "source": [
    "Ex 1 :  théorème des valeurs intermédiaires\n",
    "\n",
    "1. Rappel\n",
    "Soit f  une fonction continue définie sur un intervalle I et, a et b deux réels de I.Pour tout réel k compris entre f(a) et f(b), il existe au moins un réel c compris entre a et b tel que f(c)=k.\n",
    "\n",
    "Soit f une fonction continue et strictement monotone sur un intervalle [a;b].Pour tout nombre k compris entre f(a) et f(b), l'équation f(x)=kadmet une unique solution dans l'intervalle [a;b].\n",
    "\n",
    "2. Application\n",
    "Nous considérons dans cet exercice la fonction:fdéfinie sur l'intervalle [0;1], par: f(x)=x^3+2x−2\n",
    "Par la conséquence du théorème des valeurs intermédiaires :  l'équation f(x)=0 admet une unique solution x_0 dans [0;1]\n",
    "* vérifier continuité et stricte monotonie de f sur [0;1]\n",
    "* Pour savoir si x0 se trouve dans [0;0,5]ou dans [0,5;1], il faut vérifier si f(0) et f(0,5)  sont de mêmes signes\n",
    "* proposer un algorithme de recherche pour évaluer x_0 en fonction de $N$, donner par l'utilisateur"
   ]
  },
  {
   "cell_type": "code",
   "execution_count": 5,
   "metadata": {},
   "outputs": [
    {
     "name": "stdout",
     "output_type": "stream",
     "text": [
      "0.25\n"
     ]
    }
   ],
   "source": [
    "def f(x):\n",
    "    return x**3+2*x-2\n",
    "def racine(N):\n",
    "    import numpy as np\n",
    "    intervalle = [0,0.5,1]\n",
    "    compteur=0\n",
    "    while compteur < N :\n",
    "        if intervalle[0]*f(intervalle[1]) < 0:\n",
    "            intervalle= [intervalle[0],(intervalle[1])/2,intervalle[1]]\n",
    "        else:\n",
    "            intervalle= [intervalle[0],(intervalle[1])/2,intervalle[1]]\n",
    "            compteur = compteur+1\n",
    "        return intervalle[1]\n",
    "print (racine(10))"
   ]
  },
  {
   "cell_type": "raw",
   "metadata": {},
   "source": [
    "Ex 2: Carrés magiques Uncarré magiqueest un tableau carré de taillen×nqui contient tous les entiers de1 àn2et qui vérifieque : la somme de chaque ligne, la somme de chaque colonne, la somme de la diagonale principale et lasomme de l’anti-diagonale ont toutes la même valeur.\n",
    "\n",
    "Pour un carré magique de taillen×n, la valeur de la somme est : S_n=n(n^2+1)/2\n",
    "\n",
    "    Définir un tableau pour chacun des exemples3×3 et 4×4\n",
    "    Définir une fonctionest_carre_magique(carre)qui teste si un tableaudonné est (ou pas) un carré magique\n",
    "    Génèrer de façon aléatoire des carrés contenant les entiers de1 àn2grâce à une fonctioncarre_aleatoire(n).\n",
    "    Définir la probabilité d'obtenir un carrée magique\n",
    "    Définir une fonctionaddition_carre(carre,k)qui ajoute un entierkà tous les élé-ments du carré.\n",
    "\n"
   ]
  },
  {
   "cell_type": "code",
   "execution_count": 8,
   "metadata": {},
   "outputs": [
    {
     "name": "stdout",
     "output_type": "stream",
     "text": [
      "Carré magique d'ordre 3:\n",
      " 4   9   2 = 15\n",
      " 3   5   7 = 15\n",
      " 8   1   6 = 15\n",
      "==  ==  ==\n",
      "15  15  15\n"
     ]
    }
   ],
   "source": [
    "n = 3                              # Ordre du carré magique\n",
    "\n",
    "# On vérifie que l'ordre est bien impair\n",
    "assert n % 2 == 1, f\"L'ordre {n} n'est pas impair.\"\n",
    "\n",
    "# Le carré sera stocké dans une liste de n listes de n entiers\n",
    "# Initialisation du carré: liste de n listes de n zéros.\n",
    "array = [[0 for j in range(n)] for i in range(n)]\n",
    "\n",
    "# Initialisation de l'algorithme\n",
    "i, j = n, (n + 1) // 2        # Indices de l'algo (1-indexation)\n",
    "array[i - 1][j - 1] = 1       # Attention: python utilise une 0-indexation\n",
    "\n",
    "# Boucle sur valeurs restant à inclure dans le carré (de 2 à n**2)\n",
    "for k in range(2, n**2 + 1):\n",
    "    # Test de la case i+1, j+1 (modulo n)\n",
    "    i2 = (i + 1) % n\n",
    "    j2 = (j + 1) % n\n",
    "    if array[i2 - 1][j2 - 1] == 0:  # La case est vide: l'utiliser\n",
    "        i, j = i2, j2\n",
    "    # La case est déjà remplie: utiliser la case i-1, j\n",
    "    else:\n",
    "        i = (i - 1) % n\n",
    "    array[i - 1][j - 1] = k       # Remplissage de la case\n",
    "\n",
    "# Affichage, avec vérification des sommes par ligne et par colonne\n",
    "print(f\"Carré magique d'ordre {n}:\")\n",
    "for row in array:\n",
    "    print('  '.join(f'{k:2d}' for k in row), '=', sum(row))\n",
    "print('  '.join('==' for k in row))\n",
    "print('  '.join(str(sum(array[i][j] for i in range(n))) for j in range(n)))\n"
   ]
  },
  {
   "cell_type": "code",
   "execution_count": null,
   "metadata": {},
   "outputs": [],
   "source": []
  }
 ],
 "metadata": {
  "kernelspec": {
   "display_name": "Python 3",
   "language": "python",
   "name": "python3"
  },
  "language_info": {
   "codemirror_mode": {
    "name": "ipython",
    "version": 3
   },
   "file_extension": ".py",
   "mimetype": "text/x-python",
   "name": "python",
   "nbconvert_exporter": "python",
   "pygments_lexer": "ipython3",
   "version": "3.7.6"
  }
 },
 "nbformat": 4,
 "nbformat_minor": 4
}
